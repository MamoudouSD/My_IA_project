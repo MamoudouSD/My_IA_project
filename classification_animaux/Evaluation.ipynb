{
 "cells": [
  {
   "cell_type": "code",
   "execution_count": null,
   "metadata": {},
   "outputs": [],
   "source": [
    "# ===========================================================================\n",
    "# DIANI Mamoudou Sékou\n",
    "#\n",
    "# Juin 2022\n",
    "#==========================================================================="
   ]
  },
  {
   "cell_type": "code",
   "execution_count": null,
   "metadata": {},
   "outputs": [],
   "source": [
    "# Importation des bibliothèques nécessaires\n",
    "from keras.preprocessing.image import ImageDataGenerator\n",
    "import matplotlib.pyplot as plt\n",
    "import numpy as np\n",
    "import tensorflow as tf\n",
    "from keras import backend as K\n",
    "from sklearn.metrics import confusion_matrix, roc_curve , auc\n",
    "from keras.models import load_model\n",
    "from keras import Model\n",
    "\n",
    "# Configuration des GPUs et CPUs\n",
    "config = tf.compat.v1.ConfigProto(device_count={'GPU': 2, 'CPU': 4})\n",
    "sess = tf.compat.v1.Session(config=config)\n",
    "tf.compat.v1.keras.backend.set_session(sess)"
   ]
  },
  {
   "cell_type": "code",
   "execution_count": null,
   "metadata": {},
   "outputs": [],
   "source": [
    "#Chargement du modele sauvegarde dans Modele.ipynb\n",
    "model_path = \"Model.hdf5\"\n",
    "Classifier : Model = load_model(model_path)"
   ]
  },
  {
   "cell_type": "code",
   "execution_count": null,
   "metadata": {},
   "outputs": [],
   "source": [
    "# Declaration des chemins vers les fichiers cibles\n",
    "mainDataPath = \"donnees2/\"\n",
    "testPath = mainDataPath + \"test\"\n",
    "\n",
    "# Declaration des variable \n",
    "\n",
    "# Le nombre des images de test � �valuer\n",
    "number_images = 6000 \n",
    "number_images_class_0 = 1000\n",
    "number_images_class_1 = 1000\n",
    "number_images_class_2 = 1000\n",
    "number_images_class_3 = 1000\n",
    "number_images_class_4 = 1000\n",
    "number_images_class_5 = 1000\n",
    "\n",
    "# La taille des images a classer\n",
    "image_scale = 100\n",
    "\n",
    "# La couleur des images a classer\n",
    "images_color_mode = \"rgb\""
   ]
  },
  {
   "cell_type": "code",
   "execution_count": null,
   "metadata": {},
   "outputs": [],
   "source": [
    "# Chargement des images de test\n",
    "test_data_generator = ImageDataGenerator(rescale=1. / 255)\n",
    "\n",
    "test_itr = test_data_generator.flow_from_directory(\n",
    "    testPath,# place des images\n",
    "    target_size=(image_scale, image_scale), # taille des images\n",
    "    class_mode=\"categorical\",# Type de classification\n",
    "    shuffle=False,# pas besoin de les boulverser\n",
    "    batch_size=1,# on classe les images une � la fois\n",
    "    color_mode=images_color_mode)# couleur des images\n",
    "\n",
    "(x, y_true) = test_itr.next()\n",
    "\n",
    "# Normalisation des donnees\n",
    "max_value = float(x.max())\n",
    "x = x.astype('float32') / max_value"
   ]
  },
  {
   "cell_type": "code",
   "execution_count": null,
   "metadata": {},
   "outputs": [],
   "source": [
    "# Creation d'une liste contenat les classes correctes des images \n",
    "y_true = np.array([0] * number_images_class_0 + \n",
    "                  [1] * number_images_class_1 + \n",
    "                  [2] * number_images_class_2 + \n",
    "                  [3] * number_images_class_3 + \n",
    "                  [4] * number_images_class_4 + \n",
    "                  [5] * number_images_class_5)"
   ]
  },
  {
   "cell_type": "code",
   "execution_count": null,
   "metadata": {},
   "outputs": [],
   "source": [
    "# evaluation du modele\n",
    "test_eval = Classifier.evaluate_generator(test_itr, verbose=1)\n",
    "\n",
    "# Affichage des valeurs de perte et de precision\n",
    "print('>Test loss (Erreur):', test_eval[0])\n",
    "print('>Test pr�cision:', test_eval[1])\n",
    "\n",
    "# Prediction des classes des images de test\n",
    "predicted_classes = Classifier.predict_generator(test_itr, verbose=1)\n",
    "predicted_classes_perc = np.round(predicted_classes.copy(), 4)\n",
    "predicted_classes = np.round(predicted_classes) # on arrondie le output"
   ]
  },
  {
   "cell_type": "code",
   "execution_count": null,
   "metadata": {},
   "outputs": [],
   "source": [
    "# Recuperation des images bien classees\n",
    "correct = []\n",
    "for i in range(0, len(predicted_classes) - 1):\n",
    "    if predicted_classes[i][y_true[i]] == 1:\n",
    "        correct.append(i)\n",
    "\n",
    "# Nombre d'images bien class�es\n",
    "print(\"> %d  �tiquettes bien class�es\" % len(correct))"
   ]
  },
  {
   "cell_type": "code",
   "execution_count": null,
   "metadata": {},
   "outputs": [],
   "source": [
    "# Recuperation des images mal classees\n",
    "incorrect = []\n",
    "for i in range(0, len(predicted_classes) - 1):\n",
    "    if predicted_classes[i][y_true[i]] != 1 :\n",
    "        incorrect.append(i)\n",
    "\n",
    "# Nombre d'images mal class�es\n",
    "print(\"> %d �tiquettes mal class�es\" % len(incorrect))"
   ]
  }
 ],
 "metadata": {
  "kernelspec": {
   "display_name": "Python 3.10 (tensorflow)",
   "language": "python",
   "name": "tensorflow"
  },
  "orig_nbformat": 4
 },
 "nbformat": 4,
 "nbformat_minor": 2
}
